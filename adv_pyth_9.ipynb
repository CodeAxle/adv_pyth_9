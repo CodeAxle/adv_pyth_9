{
 "cells": [
  {
   "cell_type": "markdown",
   "id": "2e510515",
   "metadata": {},
   "source": [
    "# 1."
   ]
  },
  {
   "cell_type": "code",
   "execution_count": 1,
   "id": "10312ae9",
   "metadata": {},
   "outputs": [],
   "source": [
    "# String Methods:\n",
    "\n",
    "# The str class provides a rich set of methods for working with strings. These methods allow you to perform various operations\n",
    "# on strings, including:\n",
    "    \n",
    "# a) String modification (limited): While strings are immutable, some methods create a new string object with the modification.\n",
    "#     Examples include upper(), lower(), strip(), etc.\n",
    "# b) Searching: Methods like find(), index(), and rfind() help you locate substrings within a string.\n",
    "# c) Splitting and joining: You can split strings into lists using split() and join elements of a list into a string using join().\n",
    "# d) Formatting: String formatting with the format() method or f-strings (f literals) allows you to create dynamic strings\n",
    "#     with variables.\n",
    "# e) Regular expressions: The re module provides powerful tools for advanced pattern matching and string manipulation using \n",
    "#     regular expressions\n",
    "    \n",
    "# some important methods:\n",
    "# 1. capitalize(): Converts the first character of the string to uppercase and the rest to lowercase.\n",
    "# 2. casefold(): Returns a casefolded copy of the string (similar to lowercase but more aggressive).\n",
    "# 3. center(width, fillchar): Returns a centered string of length width with the original string centered and padded \n",
    "#     with fillchar if necessary.\n",
    "# 4. count(sub[, start[, end]]): Returns the number of non-overlapping occurrences of substring sub in the string.\n",
    "# 5. endswith(suffix[, start[, end]]): Returns True if the string ends with the specified suffix, otherwise False.\n",
    "# 6. find(sub[, start[, end]]): Returns the lowest index of substring sub in the string, or -1 if not found."
   ]
  },
  {
   "cell_type": "markdown",
   "id": "033edde1",
   "metadata": {},
   "source": [
    "# 2."
   ]
  },
  {
   "cell_type": "code",
   "execution_count": 2,
   "id": "bfad3d7d",
   "metadata": {},
   "outputs": [],
   "source": [
    "# Here's an overview of the differences:\n",
    "\n",
    "# a) Single-Quoted Strings ('...'):\n",
    "\n",
    "# 1. Single-quoted strings are enclosed in single quotes.\n",
    "# 2. Escape sequences such as \\n, \\t, and \\\\ are interpreted within single-quoted strings.\n",
    "# 3. To include a single quote within a single-quoted string, you can either escape it with a backslash (\\') or use double \n",
    "#     quotes instead.\n",
    "# Example: 'Hello, World!'\n",
    "\n",
    "# b) Double-Quoted Strings (\"...\"):\n",
    "\n",
    "# 1. Double-quoted strings are enclosed in double quotes.\n",
    "# 2. Like single-quoted strings, escape sequences such as \\n, \\t, and \\\\ are interpreted within double-quoted strings.\n",
    "# 3. To include a double quote within a double-quoted string, you can either escape it with a backslash (\\\") or use single \n",
    "#     quotes instead.\n",
    "# Example: \"Hello, World!\"\n",
    "                                                                                                       \n",
    "# c) Triple-Quoted Strings ('''...''' or \"\"\"...\"\"\"):\n",
    "\n",
    "# 1. Triple-quoted strings are enclosed in three single quotes ('''...''') or three double quotes (\"\"\"...\"\"\").\n",
    "# 2. These strings can span multiple lines, making them suitable for multiline strings.\n",
    "# 3. Escape sequences are interpreted in triple-quoted strings, similar to single- and double-quoted strings.\n",
    "# 4. Triple-quoted strings are often used for docstrings (documentation strings) and multiline text.\n",
    "\n",
    "# Example:\n",
    "# '''\n",
    "# This is a \n",
    "# multiline\n",
    "# string.\n",
    "# '''"
   ]
  },
  {
   "cell_type": "markdown",
   "id": "a13767e9",
   "metadata": {},
   "source": [
    "# 3."
   ]
  },
  {
   "cell_type": "code",
   "execution_count": 4,
   "id": "3e0b0da8",
   "metadata": {},
   "outputs": [],
   "source": [
    "# Here's how you can include non-ASCII Unicode characters in a string:\n",
    "\n",
    "# a) Using Unicode Escape Sequences:\n",
    "# You can represent Unicode characters in a string using escape sequences of the form \\uXXXX, where XXXX is the hexadecimal \n",
    "# Unicode code point.\n",
    "# Unicode escape sequence for 'é'\n",
    "s = '\\u00e9'  # 'é'\n",
    "\n",
    "# b) Using Unicode Characters Directly:\n",
    "# If your source code file is encoded in UTF-8 or another encoding that supports Unicode characters directly, you can include \n",
    "# non-ASCII Unicode characters directly in the string.\n",
    "# # Using Unicode character 'é' directly\n",
    "s = 'é'  # 'é'\n",
    "\n",
    "# c) Using Unicode Code Points:\n",
    "# You can also include Unicode characters directly using their code points, specified in hexadecimal format, using the \n",
    "# \\UXXXXXXXX escape sequence.\n",
    "# # Unicode code point for 'é'\n",
    "s = '\\U000000e9'  # 'é'"
   ]
  },
  {
   "cell_type": "markdown",
   "id": "7bdb57a0",
   "metadata": {},
   "source": [
    "# 4."
   ]
  },
  {
   "cell_type": "code",
   "execution_count": 5,
   "id": "906b1a26",
   "metadata": {},
   "outputs": [
    {
     "name": "stdout",
     "output_type": "stream",
     "text": [
      "Hello, world!\n",
      "\n",
      "b'Hello, world!\\n'\n"
     ]
    }
   ],
   "source": [
    "# Differences between text-mode and binary-mode files:\n",
    "\n",
    "# a) Text-Mode Files:\n",
    "\n",
    "# 1. Text-mode files are opened using the 't' mode flag (or no mode flag, as 'r' or 'w' implicitly open files in text mode).\n",
    "# 2. These files are used for reading and writing text data, such as strings of characters.\n",
    "# 3. Text-mode files handle line endings ('\\n', '\\r\\n', or '\\r') automatically based on the platform (Unix, Windows, etc.).\n",
    "# When reading from a text-mode file, Python decodes the bytes to Unicode strings using the specified encoding (default is \n",
    "#     platform-dependent or UTF-8).\n",
    "# 4. When writing to a text-mode file, Python encodes Unicode strings into bytes using the specified encoding before writing\n",
    "# them to the file.\n",
    "\n",
    "# b) Binary-Mode Files:\n",
    "\n",
    "# 1. Binary-mode files are opened using the 'b' mode flag.\n",
    "# 2. These files are used for reading and writing raw binary data, such as images, audio files, or any file where you don't\n",
    "#     want automatic encoding/decoding.\n",
    "# 3. Binary-mode files treat data as sequences of bytes and do not perform any automatic encoding/decoding or line ending \n",
    "#     conversions.\n",
    "# 4. When reading from a binary-mode file, data is read as-is without any interpretation or decoding, and you get bytes objects.\n",
    "# 5. When writing to a binary-mode file, you must provide data as bytes objects, and they are written directly to the file \n",
    "#     without any encoding.\n",
    "    \n",
    "# example:\n",
    "# Text-mode file (reading and writing strings)\n",
    "with open('text_file.txt', 'wt') as f:\n",
    "    f.write('Hello, world!\\n')\n",
    "\n",
    "with open('text_file.txt', 'rt') as f:\n",
    "    data = f.read()\n",
    "    print(data)  # Outputs: Hello, world!\n",
    "\n",
    "# Binary-mode file (reading and writing bytes)\n",
    "with open('binary_file.bin', 'wb') as f:\n",
    "    f.write(b'\\x48\\x65\\x6c\\x6c\\x6f\\x2c\\x20\\x77\\x6f\\x72\\x6c\\x64\\x21\\x0a')\n",
    "\n",
    "with open('binary_file.bin', 'rb') as f:\n",
    "    data = f.read()\n",
    "    print(data)  # Outputs: b'Hello, world!\\n'"
   ]
  },
  {
   "cell_type": "markdown",
   "id": "83f0b0ca",
   "metadata": {},
   "source": [
    "# 5."
   ]
  },
  {
   "cell_type": "code",
   "execution_count": 7,
   "id": "123a0551",
   "metadata": {},
   "outputs": [],
   "source": [
    "# If you have a Unicode text file that is encoded in a different encoding than your platform's default, you can interpret it correctly by explicitly specifying the encoding when reading the file. In Python, you can do this using the open() function with the appropriate encoding parameter.\n",
    "\n",
    "# Here's how you can interpret a Unicode text file encoded in a different encoding:\n",
    "\n",
    "# a) Identify the Encoding: First, you need to know the encoding used to save the text file. Common encodings include UTF-8, \n",
    "#     UTF-16, ISO-8859-1 (Latin-1), etc.\n",
    "\n",
    "# b) Open the File with the Correct Encoding: Use the open() function with the 'r' mode for reading and specify the encoding \n",
    "#     parameter to match the actual encoding of the file.\n",
    "\n",
    "# c) Read and Decode the File Content: When you read from the file, Python will automatically decode the bytes into Unicode \n",
    "#     strings using the specified encoding.\n"
   ]
  },
  {
   "cell_type": "markdown",
   "id": "79898daf",
   "metadata": {},
   "source": [
    "# 6."
   ]
  },
  {
   "cell_type": "code",
   "execution_count": 9,
   "id": "e6a7a270",
   "metadata": {},
   "outputs": [
    {
     "name": "stdout",
     "output_type": "stream",
     "text": [
      "Unicode text file created successfully.\n"
     ]
    }
   ],
   "source": [
    "# The best way to create a Unicode text file in a specific encoding format depends on the tools and programming languages you\n",
    "# are using. In Python, for example, you can use the open() function with the appropriate encoding parameter to write Unicode \n",
    "# text to a file in a specific encoding format.\n",
    "\n",
    "# example:\n",
    "# Specify the text content to be written to the file\n",
    "text_content = \"This is a Unicode text file.\"\n",
    "\n",
    "# Open the file with the correct encoding (e.g., UTF-8)\n",
    "with open('unicode_file.txt', 'w', encoding='utf-8') as f:\n",
    "    f.write(text_content)\n",
    "\n",
    "print(\"Unicode text file created successfully.\")"
   ]
  },
  {
   "cell_type": "markdown",
   "id": "d0a9bba9",
   "metadata": {},
   "source": [
    "# 7."
   ]
  },
  {
   "cell_type": "code",
   "execution_count": 10,
   "id": "f4fec6cc",
   "metadata": {},
   "outputs": [],
   "source": [
    "# ASCII (American Standard Code for Information Interchange) text can be considered a form of Unicode text under certain \n",
    "# conditions:\n",
    "\n",
    "# a) Compatibility: ASCII text is a subset of Unicode. This means that any ASCII text is inherently Unicode-compatible because\n",
    "#     Unicode includes the ASCII character set in its encoding.\n",
    "\n",
    "# b) Encoding: Unicode supports multiple encoding formats, such as UTF-8, UTF-16, and UTF-32. ASCII text encoded using UTF-8,\n",
    "#     for example, is Unicode text because UTF-8 is a Unicode encoding that represents characters using a variable number of \n",
    "#     bytes, where ASCII characters are represented using a single byte that matches their ASCII code.\n",
    "\n",
    "# c) Interoperability: Since ASCII is a subset of Unicode, ASCII text can be seamlessly used and interchanged with Unicode text\n",
    "#     in applications and systems that support Unicode encoding. This allows ASCII text to coexist and interact with other \n",
    "#     Unicode text without any issues.\n",
    "\n",
    "# d) Character Representation: In Unicode, ASCII characters are mapped to the same code points as in ASCII. For example, \n",
    "#     the ASCII character 'A' (U+0041) is also represented by the same code point in Unicode. This ensures that ASCII text\n",
    "#     represented in Unicode retains its original character meanings and properties."
   ]
  },
  {
   "cell_type": "markdown",
   "id": "059abd55",
   "metadata": {},
   "source": [
    "# 8."
   ]
  },
  {
   "cell_type": "code",
   "execution_count": null,
   "id": "d921a481",
   "metadata": {},
   "outputs": [],
   "source": [
    "# The change in string types in Python 3.x, specifically the introduction of Unicode as the default string type, has several \n",
    "# effects on code compared to earlier versions of Python (Python 2.x). Here are some notable effects:\n",
    "\n",
    "# a) Default Unicode Behavior:\n",
    "\n",
    "# 1. In Python 3.x, strings are Unicode by default. This means that strings can represent a wider range of characters, including\n",
    "#     non-ASCII characters from different languages and symbols.\n",
    "# 2. In Python 2.x, strings were represented as bytes by default, and Unicode strings required a 'u' prefix.\n",
    "\n",
    "# b) Encoding and Decoding:\n",
    "\n",
    "# 1. In Python 3.x, explicit encoding and decoding are necessary when working with bytes and strings. This ensures clarity and\n",
    "#     helps prevent encoding-related bugs.\n",
    "# 2. Python 2.x had implicit conversion between byte strings and Unicode strings, which could lead to encoding errors if not\n",
    "#     handled carefully.\n",
    "\n",
    "# c) Print Statement:\n",
    "\n",
    "# 1. In Python 3.x, the print statement was replaced by the print() function, which requires parentheses. This change facilitates \n",
    "#     consistency with other function calls.\n",
    "# 2.Python 2.x used the print statement without parentheses, which could lead to confusion and inconsistencies in code style.\n",
    "\n",
    "# d) str vs bytes Distinction:\n",
    "\n",
    "# 1. Python 3.x distinguishes clearly between text (Unicode) strings (str type) and byte strings (bytes type). This distinction \n",
    "#     helps in writing code that handles text and binary data appropriately.\n",
    "# 2. Python 2.x had a single str type that could represent both text and binary data, leading to potential confusion and bugs.\n",
    "\n",
    "# e) Unicode Literals:\n",
    "\n",
    "# 1. Python 3.x introduced Unicode literals, which are specified by adding a 'u' prefix before the string literal. This helps\n",
    "#     explicitly denote Unicode strings.\n",
    "# 2. Python 2.x treated string literals as byte strings by default unless specified otherwise.\n",
    "\n",
    "# f) String Formatting:\n",
    "\n",
    "# 1. Python 3.x introduced new string formatting methods like f-strings (f\"Hello {name}\") and the str.format() method, \n",
    "#     which provide more flexibility and readability compared to the % formatting used in Python 2.x."
   ]
  }
 ],
 "metadata": {
  "kernelspec": {
   "display_name": "Python 3 (ipykernel)",
   "language": "python",
   "name": "python3"
  },
  "language_info": {
   "codemirror_mode": {
    "name": "ipython",
    "version": 3
   },
   "file_extension": ".py",
   "mimetype": "text/x-python",
   "name": "python",
   "nbconvert_exporter": "python",
   "pygments_lexer": "ipython3",
   "version": "3.11.5"
  }
 },
 "nbformat": 4,
 "nbformat_minor": 5
}
